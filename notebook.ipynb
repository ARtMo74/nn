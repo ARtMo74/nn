{
 "cells": [
  {
   "cell_type": "code",
   "execution_count": null,
   "metadata": {},
   "outputs": [],
   "source": [
    "import tensorflow as tf\n",
    "import matplotlib as plt\n",
    "import numpy as np"
   ]
  },
  {
   "cell_type": "code",
   "execution_count": null,
   "metadata": {},
   "outputs": [],
   "source": [
    "mnist = tf.keras.datasets.mnist\n",
    "(x_train, y_train),(x_test, y_test) = mnist.load_data()\n",
    "x_train, x_test = x_train / 255.0, x_test / 255.0"
   ]
  },
  {
   "cell_type": "code",
   "execution_count": null,
   "metadata": {},
   "outputs": [],
   "source": [
    "def display_digit(num, x, y, vector = None):\n",
    "    label = y[num]\n",
    "    image = x[num]\n",
    "    if vector is None:\n",
    "        plt.title('Example: {}  Label: {}'.format(num, label))\n",
    "        plt.imshow(image, cmap=plt.get_cmap('gray_r'))\n",
    "    else:\n",
    "        plt.figure(figsize=(6,3))\n",
    "        plt.subplot(1,2,1)\n",
    "        plt.title('Real label: {}'.format(label))\n",
    "        plt.imshow(image, cmap=plt.get_cmap('gray_r'))\n",
    "        plt.subplot(1,2,2)\n",
    "        thisplot = plt.bar(range(10), vector, color=\"#777777\")\n",
    "        plt.ylim([0, 1]) \n",
    "        plt.xticks([])\n",
    "        plt.yticks([])\n",
    "        predicted_label = np.argmax(vector)\n",
    "        thisplot[predicted_label].set_color('red')\n",
    "        plt.title('Predicted label: {}'.format(predicted_label))\n",
    "    plt.show()"
   ]
  },
  {
   "cell_type": "code",
   "execution_count": null,
   "metadata": {},
   "outputs": [],
   "source": [
    "model1 = tf.keras.models.Sequential([\n",
    "  tf.keras.layers.Flatten(input_shape=(28, 28)),\n",
    "  tf.keras.layers.Dropout(0.2),\n",
    "  tf.keras.layers.Dense(100, activation=tf.nn.relu),\n",
    "  tf.keras.layers.Dropout(0.2),\n",
    "  tf.keras.layers.Dense(10, activation=tf.nn.softmax)\n",
    "])\n",
    "model1.compile(optimizer=tf.keras.optimizers.Adam(learning_rate=0.005),\n",
    "              loss=tf.keras.losses.sparse_categorical_crossentropy,\n",
    "              metrics=['accuracy'])\n",
    "history1 = model1.fit(x_train, y_train, epochs=10, validation_data=(x_test, y_test))"
   ]
  },
  {
   "cell_type": "code",
   "execution_count": null,
   "metadata": {},
   "outputs": [],
   "source": [
    "model2 = tf.keras.models.Sequential([\n",
    "  tf.keras.layers.Flatten(input_shape=(28, 28)),\n",
    "  tf.keras.layers.Dropout(0.2),\n",
    "  tf.keras.layers.Dense(100, activation=tf.nn.relu),\n",
    "  tf.keras.layers.Dropout(0.2),\n",
    "  tf.keras.layers.Dense(10, activation=tf.nn.softmax)\n",
    "])\n",
    "model2.compile(optimizer=tf.keras.optimizers.Adam(learning_rate=0.005),\n",
    "              loss=tf.keras.losses.sparse_categorical_crossentropy,\n",
    "              metrics=['accuracy'])\n",
    "history2 = model2.fit(x_train, y_train, epochs=10, validation_data=(x_test, y_test))"
   ]
  }
 ],
 "metadata": {
  "kernelspec": {
   "display_name": "Python 3",
   "language": "python",
   "name": "python3"
  },
  "language_info": {
   "codemirror_mode": {
    "name": "ipython",
    "version": 3
   },
   "file_extension": ".py",
   "mimetype": "text/x-python",
   "name": "python",
   "nbconvert_exporter": "python",
   "pygments_lexer": "ipython3",
   "version": "3.8.3"
  }
 },
 "nbformat": 4,
 "nbformat_minor": 2
}
